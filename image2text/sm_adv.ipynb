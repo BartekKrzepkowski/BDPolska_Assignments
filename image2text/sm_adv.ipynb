{
 "cells": [
  {
   "cell_type": "code",
   "execution_count": 1,
   "metadata": {},
   "outputs": [],
   "source": [
    "import numpy as np\n",
    "import pandas as pd\n",
    "import matplotlib.pyplot as plt\n",
    "from sklearn.model_selection import train_test_split\n",
    "from sklearn.preprocessing import MinMaxScaler, StandardScaler, RobustScaler\n",
    "\n",
    "import torch\n",
    "# import torchtext\n",
    "from torch import nn\n",
    "from torch.nn import functional as F\n",
    "from torch.utils import data"
   ]
  },
  {
   "cell_type": "markdown",
   "metadata": {},
   "source": [
    "# Yoon Kim Convolutional Neural Network"
   ]
  },
  {
   "cell_type": "code",
   "execution_count": null,
   "metadata": {},
   "outputs": [],
   "source": [
    "from sklearn.preprocessing import LabelEncoder\n",
    "encoder = LabelEncoder()"
   ]
  },
  {
   "cell_type": "code",
   "execution_count": null,
   "metadata": {},
   "outputs": [],
   "source": [
    "data_df = pd.read_csv(r\"bbc-text.csv\")\n",
    "data_df.head()"
   ]
  },
  {
   "cell_type": "code",
   "execution_count": null,
   "metadata": {},
   "outputs": [],
   "source": [
    "data_df[\"category_\"] = encoder.fit_transform(data_df[\"category\"])\n",
    "data_df.head()"
   ]
  },
  {
   "cell_type": "markdown",
   "metadata": {},
   "source": [
    "## Data Preparation"
   ]
  },
  {
   "cell_type": "code",
   "execution_count": null,
   "metadata": {},
   "outputs": [],
   "source": [
    "from allennlp.modules.elmo import Elmo, batch_to_ids\n",
    "import spacy\n",
    "# from torchtext import data\n",
    "import re"
   ]
  },
  {
   "cell_type": "code",
   "execution_count": null,
   "metadata": {},
   "outputs": [],
   "source": [
    "y_data = data_df[\"category_\"].values\n",
    "x_data = data_df[\"text\"].values"
   ]
  },
  {
   "cell_type": "code",
   "execution_count": null,
   "metadata": {},
   "outputs": [],
   "source": [
    "nlp = spacy.load('en',disable=['parser', 'tagger', 'ner'])\n",
    "\n",
    "\n",
    "def tweet_clean(text):\n",
    "    text = re.sub(r'[^A-Za-z0-9]+', ' ', text) # remove non alphanumeric character\n",
    "    text = re.sub(r'https?:/\\/\\S+', ' ', text) # remove links\n",
    "    return text.strip()[:500]\n",
    "\n",
    "def tokenizer(s): \n",
    "    return [w.text.lower() for w in nlp(tweet_clean(s))]\n",
    "\n",
    "x_data = [tokenizer(s) for s in x_data]"
   ]
  },
  {
   "cell_type": "code",
   "execution_count": null,
   "metadata": {},
   "outputs": [],
   "source": [
    "x_data = batch_to_ids(x_data).numpy()"
   ]
  },
  {
   "cell_type": "code",
   "execution_count": null,
   "metadata": {},
   "outputs": [],
   "source": [
    "options_file = \"https://allennlp.s3.amazonaws.com/models/elmo/2x4096_512_2048cnn_2xhighway/elmo_2x4096_512_2048cnn_2xhighway_options.json\"\n",
    "weight_file = \"https://allennlp.s3.amazonaws.com/models/elmo/2x4096_512_2048cnn_2xhighway/elmo_2x4096_512_2048cnn_2xhighway_weights.hdf5\"\n",
    "elmo = Elmo(options_file, weight_file, 2, dropout=0)\n",
    "\n",
    "x = elmo(x)[\"elmo_representations\"]\n",
    "x = x[0] + x[1]"
   ]
  },
  {
   "cell_type": "code",
   "execution_count": null,
   "metadata": {},
   "outputs": [],
   "source": [
    "x_train, x_test, y_train, y_test = train_test_split(x_data, y_data, test_size=0.2, random_state=42)"
   ]
  },
  {
   "cell_type": "code",
   "execution_count": null,
   "metadata": {},
   "outputs": [],
   "source": [
    "class DatasetDocumentClassification(data.Dataset):\n",
    "    'Characterizes a dataset for PyTorch'\n",
    "    def __init__(self, x_data, y_data):\n",
    "        'Initialization'\n",
    "        self.x_data = x_data\n",
    "        self.y_data = y_data\n",
    "\n",
    "    def __len__(self):\n",
    "        'Denotes the total number of samples'\n",
    "        return len(self.x_data)\n",
    "\n",
    "    def __getitem__(self, index):\n",
    "        'Generates one sample of data'\n",
    "        return self.x_data[index], self.y_data[index]\n",
    "    \n",
    "    \n",
    "params = {\n",
    "    'batch_size': 1,\n",
    "    'shuffle': True,\n",
    "    'num_workers': 8\n",
    "}\n",
    "\n",
    "# Generators\n",
    "training_set = DatasetDocumentClassification(x_train, y_train)\n",
    "train_generator = data.DataLoader(training_set, **params)\n",
    "\n",
    "test_set = DatasetDocumentClassification(x_test, y_test)\n",
    "test_generator = data.DataLoader(test_set, **params)"
   ]
  },
  {
   "cell_type": "markdown",
   "metadata": {},
   "source": [
    "## Model"
   ]
  },
  {
   "cell_type": "code",
   "execution_count": null,
   "metadata": {
    "jupyter": {
     "source_hidden": true
    }
   },
   "outputs": [],
   "source": [
    "'''\n",
    "spatial dropout\n",
    "https://discuss.pytorch.org/t/spatial-dropout-in-pytorch/21400/2\n",
    "'''\n",
    "\n",
    "# w pytorchu jest [batch_size, channel, h_dim, w_dim]\n",
    "class YoonKimModel(nn.Module):\n",
    "    def __init__(self, x_channel, b1_channel, y_dim, emb_dim, stride_conv, prob_dropout, context_window):\n",
    "        super(YoonKimModel, self).__init__()\n",
    "#         self.spatial_dropout = nn.Dropout2d() zaczatek do spatialdropout1d\n",
    "        self.context_layers = [nn.Sequential(\n",
    "            nn.Conv2d(x_channel, b1_channel, stride=stride_conv,\n",
    "                      kernel_size=(l_filter_sizes, emb_dim)),\n",
    "            nn.BatchNorm2d(b1_channel),\n",
    "            nn.ReLU(),\n",
    "            nn.Flatten(start_dim=2, end_dim=3),\n",
    "            nn.AdaptiveAvgPool1d(output_size=1)\n",
    "            ) for l_filter_sizes in context_window\n",
    "                              ]\n",
    "        self.dropout = nn.Dropout(p=prob_dropout)\n",
    "        self.linear = nn.Linear(in_features=b1_channel*len(context_window), out_features=y_dim)\n",
    "        self.loss = nn.CrossEntropyLoss()\n",
    "        \n",
    "        \n",
    "        \n",
    "        \n",
    "    def forward(self, x):\n",
    "        context_tensors = []\n",
    "        x = x.unsqueeze(1)\n",
    "        for c_layer in self.context_layers:\n",
    "            context_tensors.append(c_layer(x))\n",
    "            \n",
    "        x = torch.cat(context_tensors, dim=1).squeeze(-1)\n",
    "        x = self.dropout(x)\n",
    "        return self.linear(x)\n",
    "    \n",
    "    \n",
    "      def train_(self, generator, epochs, lr=0.01):\n",
    "            self.optim = torch.optim.Adam(self.parameters(), lr=lr)\n",
    "            liveloss = PlotLosses()\n",
    "            \n",
    "            for epoch in range(epochs):\n",
    "                if epoch % 50 == 0:\n",
    "                    logs = {}\n",
    "                    for phase in [\"train\", \"val\"]:\n",
    "                        runnging_acc = 0\n",
    "                        runnging_loss = 0\n",
    "                        for x_data, y_data in generator[phase]:\n",
    "                            x_data, y_data = x_data.cuda(), y_data.cuda()\n",
    "                            y_pred = self.forward(x_data)\n",
    "                            loss = self.loss(y_pred, y_data)\n",
    "\n",
    "                            if phase == \"train\":\n",
    "                                self.optim.zero_grad()\n",
    "                                loss.backward()\n",
    "                                self.optim.step()\n",
    "\n",
    "                            _, preds = torch.max(y_pred, 1)\n",
    "                            runnging_acc += torch.sum(preds == y_data)\n",
    "                            runnging_loss += loss.detached()\n",
    "                            \n",
    "                        logs[phase+\"acc\"] = runnging_acc\n",
    "                        logs[phase+\"loss\"] = runnging_loss\n",
    "                    liveloss.update(logs)\n",
    "                    liveloss.draw()\n",
    "\n",
    "                else:\n",
    "                    for x_data, y_data in generator[\"train\"]:\n",
    "                        x_data, y_data = x_data.cuda(), y_data.cuda()\n",
    "                        y_pred = self.forward(x_data)\n",
    "                        loss = self.loss(y_pred, y_data)\n",
    "                        \n",
    "                        self.optim.zero_grad()\n",
    "                        loss.backward()\n",
    "                        self.optim.step()\n",
    "                \n",
    "                \n",
    "    def test(self, test_generator):\n",
    "        self.eval()\n",
    "        acc = 0\n",
    "        loss = 0\n",
    "        with torch.no_grad():\n",
    "            for x_data, y_data in test_generator:\n",
    "                x_data, y_data = x_data, y_data\n",
    "                y_pred = self.forward(x_data)\n",
    "                _, labels_pred = torch.max(y_pred.data, 1)\n",
    "                acc += (labels_pred == y_data).sum().item()\n",
    "\n",
    "        print('Test Accuracy of the model on the 10000 test images: {} %'.format(100 * acc / len(test_generator.dataset)))\n",
    "\n"
   ]
  },
  {
   "cell_type": "code",
   "execution_count": null,
   "metadata": {},
   "outputs": [],
   "source": [
    "params_model = {\n",
    "    \"x_channel\": 1,\n",
    "    \"b1_channel\": 16,\n",
    "    \"emb_dim\": 1024,\n",
    "    \"y_dim\": 5,\n",
    "    \n",
    "    \"stride_conv\": 1,\n",
    "    \"prob_dropout\": 0.2,\n",
    "    \"context_window\": [2, 3, 5, 7]\n",
    "    \n",
    "}\n",
    "\n",
    "params_train = {\n",
    "    \"train_generator\": train_generator,\n",
    "    \"epochs\": 20,\n",
    "    \"lr\": 0.001\n",
    "}\n",
    "\n",
    "    \n",
    "yoonkimcnn = YoonKimModel(**params_model)\n",
    "\n",
    "yoonkimcnn.train_(**params_train)"
   ]
  },
  {
   "cell_type": "markdown",
   "metadata": {},
   "source": [
    "## Linear with assestment"
   ]
  },
  {
   "cell_type": "code",
   "execution_count": 2,
   "metadata": {},
   "outputs": [
    {
     "data": {
      "image/png": "[encoded data removed]",
      "text/plain": [
       "<Figure size 432x288 with 1 Axes>"
      ]
     },
     "metadata": {
      "needs_background": "light"
     },
     "output_type": "display_data"
    }
   ],
   "source": [
    "df_data = pd.read_csv(\"kc_house_data.csv\")\n",
    "\n",
    "x_data = df_data['sqft_living'].values.reshape(-1, 1).astype(np.float32)\n",
    "y_data = df_data[\"price\"].values.reshape(-1, 1).astype(np.float32)\n",
    "\n",
    "plt.scatter(x_data, y_data);"
   ]
  },
  {
   "cell_type": "code",
   "execution_count": 3,
   "metadata": {},
   "outputs": [
    {
     "data": {
      "image/png": "[encoded data removed]",
      "text/plain": [
       "<Figure size 432x288 with 1 Axes>"
      ]
     },
     "metadata": {
      "needs_background": "light"
     },
     "output_type": "display_data"
    }
   ],
   "source": [
    "# minmax scaler\n",
    "minmax_scaler = MinMaxScaler()\n",
    "\n",
    "x_data = minmax_scaler.fit_transform(x_data)\n",
    "y_data = minmax_scaler.fit_transform(y_data)\n",
    "\n",
    "plt.scatter(x_data, y_data);"
   ]
  },
  {
   "cell_type": "code",
   "execution_count": 4,
   "metadata": {},
   "outputs": [],
   "source": [
    "x_train, x_test, y_train, y_test = train_test_split(x_data, y_data, test_size=0.2, random_state=42)\n",
    "x_train, x_validation, y_train, y_validation = train_test_split(x_train, y_train, test_size=0.25, random_state=42)"
   ]
  },
  {
   "cell_type": "code",
   "execution_count": 5,
   "metadata": {},
   "outputs": [],
   "source": [
    "params = {\n",
    "    'batch_size': 32,\n",
    "    'num_workers': 8\n",
    "}\n",
    "\n",
    "# Generators\n",
    "training_set = data.TensorDataset(torch.from_numpy(x_train), torch.from_numpy(y_train))\n",
    "training_generator = data.DataLoader(training_set, shuffle=True, **params)\n",
    "\n",
    "validation_set = data.TensorDataset(torch.from_numpy(x_validation), torch.from_numpy(y_validation))\n",
    "validation_generator = data.DataLoader(validation_set, shuffle=False, **params)\n",
    "\n",
    "test_set = data.TensorDataset(torch.from_numpy(x_test), torch.from_numpy(y_test))\n",
    "test_generator = data.DataLoader(test_set, shuffle=False, **params)"
   ]
  },
  {
   "cell_type": "code",
   "execution_count": 29,
   "metadata": {},
   "outputs": [],
   "source": [
    "from livelossplot import PlotLosses\n",
    "\n",
    "class LinearRegression(nn.Module):\n",
    "    def __init__(self, x_dim, y_dim):\n",
    "        super(LinearRegression, self).__init__()\n",
    "        self.i2o = nn.Linear(x_dim, y_dim, bias=True)\n",
    "        self.loss = nn.MSELoss()\n",
    "        \n",
    "        \n",
    "    def forward(self, x):\n",
    "        return self.i2o(x)\n",
    "    \n",
    "    \n",
    "    def train_(self, generator, epochs, lr=0.01, step=2, device=\"cpu\"):\n",
    "        self = self.to(device)\n",
    "        self.optim = torch.optim.SGD(self.parameters(), lr=lr)\n",
    "        liveloss = PlotLosses()\n",
    "\n",
    "        for epoch in range(epochs):\n",
    "            if epoch % step == 0:\n",
    "                logs = {}\n",
    "                for phase in [\"train\", \"eval\"]:\n",
    "                    self.train() if phase == 'train' else self.eval()\n",
    "                    runnging_loss = 0.0\n",
    "                    \n",
    "                    for x_data, y_data in generator[phase]:\n",
    "                        x_data, y_data = x_data.to(device), y_data.to(device)\n",
    "                        y_pred = self.forward(x_data)\n",
    "                        loss = self.loss(y_pred, y_data)\n",
    "\n",
    "                        if phase == \"train\":\n",
    "                            self.optim.zero_grad()\n",
    "                            loss.backward()\n",
    "                            self.optim.step()\n",
    "                            \n",
    "                        runnging_loss += loss.item()\n",
    "\n",
    "                    logs[phase + \"loss\"] = runnging_loss\n",
    "                    \n",
    "                liveloss.update(logs)\n",
    "                liveloss.draw()\n",
    "\n",
    "            else:\n",
    "                self.train()\n",
    "                for x_data, y_data in generator[\"train\"]:\n",
    "                    x_data, y_data = x_data.to(device), y_data.to(device)\n",
    "                    y_pred = self.forward(x_data)\n",
    "                    loss = self.loss(y_pred, y_data)\n",
    "\n",
    "                    self.optim.zero_grad()\n",
    "                    loss.backward()\n",
    "                    self.optim.step()\n",
    "                        \n",
    "                    \n",
    "    def test(self, test_generator, device):\n",
    "            self.eval()\n",
    "            loss = 0\n",
    "            with torch.no_grad():\n",
    "                for x_data, y_data in test_generator:\n",
    "                    x_data, y_data = x_data.to(device), y_data.to(device)\n",
    "                    y_pred = self.forward(x_data)\n",
    "                    loss += (y_pred - y_data)**2\n",
    "\n",
    "            print('Test Accuracy of the model on the 10000 test images: {} %'.format(loss))\n",
    "            \n",
    "        "
   ]
  },
  {
   "cell_type": "code",
   "execution_count": 30,
   "metadata": {},
   "outputs": [
    {
     "data": {
      "image/png": "[encoded data removed]",
      "text/plain": [
       "<Figure size 864x576 with 2 Axes>"
      ]
     },
     "metadata": {
      "needs_background": "light"
     },
     "output_type": "display_data"
    },
    {
     "name": "stdout",
     "output_type": "stream",
     "text": [
      "trainloss:\n",
      "training   (min:    0.468, max:   17.439, cur:    0.468)\n",
      "\n",
      "evalloss:\n",
      "training   (min:    0.151, max:    0.151, cur:    0.151)\n"
     ]
    }
   ],
   "source": [
    "device = torch.device('cuda:0' if torch.cuda.is_available() else 'cpu')\n",
    "\n",
    "params_model = {\n",
    "    \"x_dim\": 1,\n",
    "    \"y_dim\": 1\n",
    "}\n",
    "\n",
    "params_train = {\n",
    "    \"generator\": {\n",
    "        \"train\": training_generator,\n",
    "        \"eval\": validation_generator\n",
    "    },\n",
    "    \"epochs\": 30,\n",
    "    \"lr\": 0.01,\n",
    "    \"step\": 2,\n",
    "#     \"device\": device\n",
    "}\n",
    "\n",
    "\n",
    "linear_regression = LinearRegression(**params_model)\n",
    "\n",
    "linear_regression.train_(**params_train)"
   ]
  },
  {
   "cell_type": "code",
   "execution_count": 19,
   "metadata": {},
   "outputs": [],
   "source": [
    "loss = torch.nn.MSELoss()\n",
    "d = torch.tensor([1,2,3]).float()\n",
    "dd = torch.tensor([2,4,6]).float()\n",
    "l = loss(d, dd)"
   ]
  },
  {
   "cell_type": "code",
   "execution_count": 31,
   "metadata": {},
   "outputs": [
    {
     "data": {
      "text/plain": [
       "tensor(4.6667)"
      ]
     },
     "execution_count": 31,
     "metadata": {},
     "output_type": "execute_result"
    }
   ],
   "source": [
    "l"
   ]
  },
  {
   "cell_type": "code",
   "execution_count": 32,
   "metadata": {},
   "outputs": [
    {
     "data": {
      "text/plain": [
       "4.666666507720947"
      ]
     },
     "execution_count": 32,
     "metadata": {},
     "output_type": "execute_result"
    }
   ],
   "source": [
    "l.item(b)"
   ]
  },
  {
   "cell_type": "code",
   "execution_count": null,
   "metadata": {
    "jupyter": {
     "source_hidden": true
    }
   },
   "outputs": [],
   "source": [
    "            for epoch in range(epochs):\n",
    "                is_mod_zero = epoch % 50 == 0\n",
    "                for phase in [\"train\", \"test\"]:\n",
    "                    if phase == \"train\" or is_mod_zero:\n",
    "                        \n",
    "                        for x_data, y_data in generator[phase]:\n",
    "                            x_data, y_data = x_data.cuda(), y_data.cuda()\n",
    "                            y_pred = self.forward(x_data)\n",
    "                            loss = self.loss(y_pred, y_data)\n",
    "\n",
    "                            if phase == \"train\":\n",
    "                                self.optim.zero_grad()\n",
    "                                loss.backward()\n",
    "                                self.optim.step()\n",
    "\n",
    "                            if is_mod_zero:\n",
    "                                _, preds = torch.max(y_pred, 1)\n",
    "                                runnging_acc += torch.sum(preds == y_data)\n",
    "                                runnging_loss += loss.detached()\n",
    "                        logs[phase+\"acc\"] = runnging_acc\n",
    "                        logs[phase+\"loss\"] = runnging_loss\n",
    "                                \n",
    "                    elif is_mod_zero_mod:\n",
    "                        for x_data, y_data in generator[phase]:\n",
    "                            x_data, y_data = x_data.cuda(), y_data.cuda()\n",
    "                            y_pred = self.forward(x_data)\n",
    "                            loss = self.loss(y_pred, y_data)\n",
    "\n",
    "                            _, preds = torch.max(y_pred, 1)\n",
    "                            runnging_acc += torch.sum(preds == y_data)\n",
    "                            runnging_loss += loss.detached()\n",
    "                    \n",
    "                if is_mod_zero:\n",
    "                    logs[phase+\"acc\"] = runnging_acc\n",
    "                    logs[phase+\"loss\"] = runnging_loss\n",
    "                    runnging_acc = 0\n",
    "                    runnging_loss = 0\n",
    "                    \n",
    "                    for x_data, y_data in generator[phase]:\n",
    "                        x_data, y_data = x_data.cuda(), y_data.cuda()\n",
    "                        y_pred = self.forward(x_data)\n",
    "                        loss = self.loss(y_pred, y_data)\n",
    "                        \n",
    "                        _, preds = torch.max(y_pred, 1)\n",
    "                        runnging_acc += torch.sum(preds == y_data)\n",
    "                        runnging_loss += loss.detach()\n",
    "                    \n",
    "                    logs[phase+\"acc\"] = runnging_acc\n",
    "                    logs[phase+\"loss\"] = runnging_loss\n",
    "                    print ('Epoch [{}/{}], Loss: {:.4f}'.format(epoch+1, epochs, loss.item()))"
   ]
  },
  {
   "cell_type": "code",
   "execution_count": null,
   "metadata": {},
   "outputs": [],
   "source": []
  }
 ],
 "metadata": {
  "kernelspec": {
   "display_name": "Python 3",
   "language": "python",
   "name": "python3"
  },
  "language_info": {
   "codemirror_mode": {
    "name": "ipython",
    "version": 3
   },
   "file_extension": ".py",
   "mimetype": "text/x-python",
   "name": "python",
   "nbconvert_exporter": "python",
   "pygments_lexer": "ipython3",
   "version": "3.6.8"
  }
 },
 "nbformat": 4,
 "nbformat_minor": 4
}
